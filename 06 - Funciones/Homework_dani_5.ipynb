{
 "cells": [
  {
   "cell_type": "markdown",
   "metadata": {},
   "source": [
    "## Funciones"
   ]
  },
  {
   "cell_type": "markdown",
   "metadata": {},
   "source": [
    "1) Crear una función que reciba un número como parámetro y devuelva si True si es primo y False si no lo es"
   ]
  },
  {
   "cell_type": "code",
   "execution_count": 18,
   "metadata": {},
   "outputs": [
    {
     "data": {
      "text/plain": [
       "False"
      ]
     },
     "execution_count": 18,
     "metadata": {},
     "output_type": "execute_result"
    }
   ],
   "source": [
    "def prime(number):\n",
    "    if type(number)==int:\n",
    "\n",
    "        answer=True\n",
    "        if number!=1:\n",
    "            for i in range(2,number):\n",
    "\n",
    "                if number%i==0:\n",
    "                    answer=False\n",
    "                    break\n",
    "        else:\n",
    "            answer=False\n",
    "\n",
    "        return (answer)\n",
    "\n",
    "    else:\n",
    "        print('The function only accepts int inputs')\n",
    "\n",
    "prime(6)"
   ]
  },
  {
   "cell_type": "markdown",
   "metadata": {},
   "source": [
    "2) Utilizando la función del punto 1, realizar otra función que reciba de parámetro una lista de números y devuelva sólo aquellos que son primos en otra lista"
   ]
  },
  {
   "cell_type": "code",
   "execution_count": 20,
   "metadata": {},
   "outputs": [
    {
     "data": {
      "text/plain": [
       "[2, 3, 5, 7, 11, 13]"
      ]
     },
     "execution_count": 20,
     "metadata": {},
     "output_type": "execute_result"
    }
   ],
   "source": [
    "def check_list_prime(list_0):\n",
    "    if type(list_0)==list:\n",
    "        answer=[]\n",
    "        for i in list_0:\n",
    "            check=prime(i)\n",
    "            if check==True:\n",
    "                answer.append(i)\n",
    "            \n",
    "\n",
    "        return (answer)\n",
    "\n",
    "    else:\n",
    "        print('The function only accepts list inputs')\n",
    "\n",
    "check_list_prime([1,2,3,4,5,6,7,8,9,10,11,12,13,14,15])"
   ]
  },
  {
   "cell_type": "markdown",
   "metadata": {},
   "source": [
    "3) Crear una función que al recibir una lista de números, devuelva el que más se repite y cuántas veces lo hace. Si hay más de un \"más repetido\", que devuelva cualquiera"
   ]
  },
  {
   "cell_type": "code",
   "execution_count": 26,
   "metadata": {},
   "outputs": [
    {
     "data": {
      "text/plain": [
       "(1, 'repeated', 3)"
      ]
     },
     "execution_count": 26,
     "metadata": {},
     "output_type": "execute_result"
    }
   ],
   "source": [
    "def counter(list_1):\n",
    "\n",
    "    if type(list_1)==list:\n",
    "        dic_test=[]\n",
    "        cou_test=[]\n",
    "        test_coun=0\n",
    "        for i in list_1:\n",
    "\n",
    "            if i in dic_test:\n",
    "                continue\n",
    "\n",
    "            else:\n",
    "                coun=list_1.count(i)\n",
    "                dic_test.append(i)\n",
    "                cou_test.append(coun)\n",
    "                \n",
    "                \n",
    "\n",
    "        for k , e in enumerate(cou_test):\n",
    "            if e>test_coun:\n",
    "                test_coun=e\n",
    "                value=dic_test[k]\n",
    "                answer=[value,test_coun]\n",
    "\n",
    "        return (answer[0], 'repeated', answer[1])\n",
    "\n",
    "    else:\n",
    "        print('The function only accepts list inputs')   \n",
    "\n",
    "     \n",
    "counter([1,1,1,2,2,3,3,4,4,4,5,6,7,8])\n"
   ]
  },
  {
   "cell_type": "markdown",
   "metadata": {},
   "source": [
    "4) A la función del punto 3, agregar un parámetro más, que permita elegir si se requiere el menor o el mayor de los mas repetidos."
   ]
  },
  {
   "cell_type": "code",
   "execution_count": 32,
   "metadata": {},
   "outputs": [
    {
     "data": {
      "text/plain": [
       "(8, 'repeated', 1)"
      ]
     },
     "execution_count": 32,
     "metadata": {},
     "output_type": "execute_result"
    }
   ],
   "source": [
    "def counter1(list_1,rule):\n",
    "\n",
    "    ''' \n",
    "    This function with rule=True give the most repeated number,\n",
    "    and with rule=False the less repeated \n",
    "    '''\n",
    "\n",
    "    if type(list_1)==list and rule==True:\n",
    "        dic_test=[]\n",
    "        cou_test=[]\n",
    "        test_coun=0\n",
    "        for i in list_1:\n",
    "\n",
    "            if i in dic_test:\n",
    "                continue\n",
    "\n",
    "            else:\n",
    "                coun=list_1.count(i)\n",
    "                dic_test.append(i)\n",
    "                cou_test.append(coun)\n",
    "                \n",
    "                \n",
    "\n",
    "        for k , e in enumerate(cou_test):\n",
    "            if e>test_coun:\n",
    "                test_coun=e\n",
    "                value=dic_test[k]\n",
    "                answer=[value,test_coun]\n",
    "\n",
    "        return (answer[0], 'repeated', answer[1])\n",
    "    \n",
    "    elif type(list_1)==list and rule==False:\n",
    "        dic_test=[]\n",
    "        cou_test=[]\n",
    "        test_coun=1000\n",
    "        for i in list_1:\n",
    "\n",
    "            if i in dic_test:\n",
    "                continue\n",
    "\n",
    "            else:\n",
    "                coun=list_1.count(i)\n",
    "                dic_test.append(i)\n",
    "                cou_test.append(coun)\n",
    "                \n",
    "                \n",
    "\n",
    "        for k , e in enumerate(cou_test):\n",
    "            if e<test_coun:\n",
    "                test_coun=e\n",
    "                value=dic_test[k]\n",
    "                answer=[value,test_coun]\n",
    "\n",
    "        return (answer[0], 'repeated', answer[1])\n",
    "\n",
    "    else:\n",
    "        print('The function only accepts list inputs')   \n",
    "\n",
    "     \n",
    "counter1([1,1,1,2,2,3,3,4,4,4,4,5,5,6,6,7,7,8],False)"
   ]
  },
  {
   "cell_type": "code",
   "execution_count": null,
   "metadata": {},
   "outputs": [],
   "source": [
    "# el del profe\n",
    "\n",
    "def valor_modal(lista, menor):\n",
    "    '''\n",
    "    Esta función devuelve el valor modal y recibe de parámetros dos valores:\n",
    "    1-Una lista de números\n",
    "    2-Verdadero (por defecto) por si se requiere el mínimo de los más repetidos, o Falso si se requiere el máximo\n",
    "    '''\n",
    "    lista_unicos = []\n",
    "    lista_repeticiones = []\n",
    "    if len(lista) == 0:\n",
    "        return None\n",
    "    if (menor):\n",
    "        lista.sort()\n",
    "    else:\n",
    "        lista.sort(reverse=True)\n",
    "    for elemento in lista:\n",
    "        if elemento in lista_unicos:\n",
    "            i = lista_unicos.index(elemento)\n",
    "            lista_repeticiones[i] += 1\n",
    "        else:\n",
    "            lista_unicos.append(elemento)\n",
    "            lista_repeticiones.append(1)\n",
    "    moda = lista_unicos[0]\n",
    "    maximo = lista_repeticiones[0]\n",
    "    for i, elemento in enumerate(lista_unicos):\n",
    "        if lista_repeticiones[i] > maximo:\n",
    "            moda = lista_unicos[i]\n",
    "            maximo = lista_repeticiones[i]\n",
    "    return moda, maximo"
   ]
  },
  {
   "cell_type": "code",
   "execution_count": null,
   "metadata": {},
   "outputs": [],
   "source": [
    "# In my function the return can be the number with more repetition or the number with the less repetition\n",
    "# In the teacher function the return ca be the highest number with more repetition or the lower number with more repetition"
   ]
  },
  {
   "cell_type": "markdown",
   "metadata": {},
   "source": [
    "5) Crear una función que convierta entre grados Celsius, Farenheit y Kelvin<br>\n",
    "Fórmula 1\t: (°C × 9/5) + 32 = °F<br>\n",
    "Fórmula 2\t: °C + 273.15 = °K<br>\n",
    "Debe recibir 3 parámetros: el valor, la medida de orígen y la medida de destino"
   ]
  },
  {
   "cell_type": "code",
   "execution_count": 8,
   "metadata": {},
   "outputs": [
    {
     "data": {
      "text/plain": [
       "(320, 'K', 'is in', '°F', '=', 116.33000000000004)"
      ]
     },
     "execution_count": 8,
     "metadata": {},
     "output_type": "execute_result"
    }
   ],
   "source": [
    "def conversions(value,scale_temp1,scale_temp2):\n",
    "\n",
    "    if type(value) == float or type(value) == int:\n",
    "        #if scale_temp1!=scale_temp2:\n",
    "\n",
    "            if scale_temp1 == '°C':\n",
    "                if scale_temp2 == '°F':\n",
    "                    answer = (value * (9/5)) + 32\n",
    "\n",
    "                elif scale_temp2 == '°C':\n",
    "                    answer=value\n",
    "\n",
    "                else:\n",
    "                    answer= value + 273.15  \n",
    "\n",
    "                return(value, scale_temp1, 'is in', scale_temp2, '=', answer) \n",
    "\n",
    "            elif scale_temp1 == '°F':\n",
    "                if scale_temp2 == '°C':\n",
    "                    answer = ((value - 32)*5)/9\n",
    "\n",
    "                elif scale_temp2 == '°F':\n",
    "                    answer=value\n",
    "\n",
    "                else:\n",
    "                    answer= (((value - 32)*5)/9) + 273.15\n",
    "\n",
    "                return(value, scale_temp1, 'is in', scale_temp2, '=', answer) \n",
    "\n",
    "            else:\n",
    "                if scale_temp2 == '°C':\n",
    "                    answer = value-273.15\n",
    "\n",
    "                elif scale_temp2 == 'K':\n",
    "                    answer=value\n",
    "\n",
    "                else:\n",
    "                    answer= ((value-273.15) * (9/5)) + 32\n",
    "\n",
    "                return(value, scale_temp1, 'is in', scale_temp2, '=', answer) \n",
    "\n",
    "\n",
    "    else:\n",
    "        print('The value must be a number')\n",
    "\n",
    "\n",
    "conversions(320,'K','°F')   "
   ]
  },
  {
   "cell_type": "markdown",
   "metadata": {},
   "source": [
    "6) Iterando una lista con los tres valores posibles de temperatura que recibe la función del punto 5, hacer un print para cada combinación de los mismos:"
   ]
  },
  {
   "cell_type": "code",
   "execution_count": 9,
   "metadata": {},
   "outputs": [
    {
     "name": "stdout",
     "output_type": "stream",
     "text": [
      "10 °C to °C : (10, '°C', 'is in', '°C', '=', 10)\n",
      "10 °C to °F : (10, '°C', 'is in', '°F', '=', 50.0)\n",
      "10 °C to K : (10, '°C', 'is in', 'K', '=', 283.15)\n",
      "10 °F to °C : (10, '°F', 'is in', '°C', '=', -12.222222222222221)\n",
      "10 °F to °F : (10, '°F', 'is in', '°F', '=', 10)\n",
      "10 °F to K : (10, '°F', 'is in', 'K', '=', 260.92777777777775)\n",
      "10 K to °C : (10, 'K', 'is in', '°C', '=', -263.15)\n",
      "10 K to °F : (10, 'K', 'is in', '°F', '=', -441.66999999999996)\n",
      "10 K to K : (10, 'K', 'is in', 'K', '=', 10)\n"
     ]
    }
   ],
   "source": [
    "scales=['°C' , '°F' , 'K']\n",
    "for i in range(0,3):\n",
    "    for j in range(0,3):\n",
    "        print ( '10' , scales[i] , 'to' , scales[j] , ':' , conversions(10,scales[i],scales[j]))\n"
   ]
  },
  {
   "cell_type": "markdown",
   "metadata": {},
   "source": [
    "7) Armar una función que devuelva el factorial de un número. Tener en cuenta que el usuario puede equivocarse y enviar de parámetro un número no entero o negativo"
   ]
  },
  {
   "cell_type": "code",
   "execution_count": 42,
   "metadata": {},
   "outputs": [
    {
     "name": "stdout",
     "output_type": "stream",
     "text": [
      "input data type must be integer greater than 0\n"
     ]
    }
   ],
   "source": [
    "def factorial(number):\n",
    "    if type(number)==int and number>1:\n",
    "        numb=number\n",
    "        facto=number\n",
    "        while numb>1:\n",
    "            numb-=1\n",
    "            facto=facto*numb\n",
    "        \n",
    "        return(facto)\n",
    "    \n",
    "    else:\n",
    "        print('Input data type must be integer greater than 0')\n",
    "\n",
    "factorial(-4)"
   ]
  },
  {
   "cell_type": "code",
   "execution_count": null,
   "metadata": {},
   "outputs": [],
   "source": [
    "# El del profe\n",
    "def factorial(numero):\n",
    "    if(type(numero) != int):\n",
    "        return 'El numero debe ser un entero'\n",
    "    if(numero < 0):\n",
    "        return 'El numero debe ser positivo'\n",
    "    if (numero > 1):\n",
    "        numero = numero * factorial(numero - 1)\n",
    "    return numero"
   ]
  }
 ],
 "metadata": {
  "interpreter": {
   "hash": "4c6c9aef3cdba59bd241ddb350b7c79a6a163d516785fedcd26ee61d2f48025b"
  },
  "kernelspec": {
   "display_name": "Python 3.10.4 64-bit",
   "language": "python",
   "name": "python3"
  },
  "language_info": {
   "codemirror_mode": {
    "name": "ipython",
    "version": 3
   },
   "file_extension": ".py",
   "mimetype": "text/x-python",
   "name": "python",
   "nbconvert_exporter": "python",
   "pygments_lexer": "ipython3",
   "version": "3.10.4"
  },
  "orig_nbformat": 4
 },
 "nbformat": 4,
 "nbformat_minor": 2
}
