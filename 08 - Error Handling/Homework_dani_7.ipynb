{
 "cells": [
  {
   "cell_type": "markdown",
   "metadata": {},
   "source": [
    "## Manejo de errores"
   ]
  },
  {
   "cell_type": "markdown",
   "metadata": {},
   "source": [
    "1) Con la clase creada en el módulo 7, tener en cuenta diferentes casos en que el código pudiera arrojar error. Por ejemplo, en la creación del objeto recibimos una lista de números enteros pero ¿qué pasa si se envía otro tipo de dato?"
   ]
  },
  {
   "cell_type": "code",
   "execution_count": 1,
   "metadata": {},
   "outputs": [],
   "source": [
    "import sys"
   ]
  },
  {
   "cell_type": "code",
   "execution_count": 2,
   "metadata": {},
   "outputs": [
    {
     "name": "stdout",
     "output_type": "stream",
     "text": [
      "['c:\\\\Users\\\\danih\\\\Desktop\\\\SOY_HENRY\\\\PRE-CURSO\\\\Python-Prep\\\\08 - Error Handling', 'c:\\\\Users\\\\danih\\\\AppData\\\\Local\\\\Programs\\\\Python\\\\Python310\\\\python310.zip', 'c:\\\\Users\\\\danih\\\\AppData\\\\Local\\\\Programs\\\\Python\\\\Python310\\\\DLLs', 'c:\\\\Users\\\\danih\\\\AppData\\\\Local\\\\Programs\\\\Python\\\\Python310\\\\lib', 'c:\\\\Users\\\\danih\\\\AppData\\\\Local\\\\Programs\\\\Python\\\\Python310', '', 'c:\\\\Users\\\\danih\\\\AppData\\\\Local\\\\Programs\\\\Python\\\\Python310\\\\lib\\\\site-packages', 'c:\\\\Users\\\\danih\\\\AppData\\\\Local\\\\Programs\\\\Python\\\\Python310\\\\lib\\\\site-packages\\\\win32', 'c:\\\\Users\\\\danih\\\\AppData\\\\Local\\\\Programs\\\\Python\\\\Python310\\\\lib\\\\site-packages\\\\win32\\\\lib', 'c:\\\\Users\\\\danih\\\\AppData\\\\Local\\\\Programs\\\\Python\\\\Python310\\\\lib\\\\site-packages\\\\Pythonwin']\n"
     ]
    }
   ],
   "source": [
    "print(sys.path)"
   ]
  },
  {
   "cell_type": "code",
   "execution_count": 3,
   "metadata": {},
   "outputs": [
    {
     "name": "stdout",
     "output_type": "stream",
     "text": [
      "['c:\\\\Users\\\\danih\\\\Desktop\\\\SOY_HENRY\\\\PRE-CURSO\\\\Python-Prep\\\\08 - Error Handling', 'c:\\\\Users\\\\danih\\\\AppData\\\\Local\\\\Programs\\\\Python\\\\Python310\\\\python310.zip', 'c:\\\\Users\\\\danih\\\\AppData\\\\Local\\\\Programs\\\\Python\\\\Python310\\\\DLLs', 'c:\\\\Users\\\\danih\\\\AppData\\\\Local\\\\Programs\\\\Python\\\\Python310\\\\lib', 'c:\\\\Users\\\\danih\\\\AppData\\\\Local\\\\Programs\\\\Python\\\\Python310', '', 'c:\\\\Users\\\\danih\\\\AppData\\\\Local\\\\Programs\\\\Python\\\\Python310\\\\lib\\\\site-packages', 'c:\\\\Users\\\\danih\\\\AppData\\\\Local\\\\Programs\\\\Python\\\\Python310\\\\lib\\\\site-packages\\\\win32', 'c:\\\\Users\\\\danih\\\\AppData\\\\Local\\\\Programs\\\\Python\\\\Python310\\\\lib\\\\site-packages\\\\win32\\\\lib', 'c:\\\\Users\\\\danih\\\\AppData\\\\Local\\\\Programs\\\\Python\\\\Python310\\\\lib\\\\site-packages\\\\Pythonwin', 'C:\\\\Users\\\\danih\\\\Desktop\\\\SOY_HENRY\\\\PRE-CURSO\\\\Python-Prep\\\\07 - Classes & OOP']\n"
     ]
    }
   ],
   "source": [
    "sys.path.append(r'C:\\Users\\danih\\Desktop\\SOY_HENRY\\PRE-CURSO\\Python-Prep\\07 - Classes & OOP')\n",
    "print(sys.path)"
   ]
  },
  {
   "cell_type": "code",
   "execution_count": 4,
   "metadata": {},
   "outputs": [],
   "source": [
    "import funciones"
   ]
  },
  {
   "cell_type": "code",
   "execution_count": 5,
   "metadata": {},
   "outputs": [
    {
     "name": "stdout",
     "output_type": "stream",
     "text": [
      "El 1 no es primo\n",
      "El 2 es primo\n",
      "El 3 es primo\n",
      "El 4 no es primo\n",
      "El 5 es primo\n",
      "El 6 no es primo\n",
      "El 7 es primo\n",
      "El 8 no es primo\n",
      "El 9 no es primo\n",
      "El 10 no es primo\n"
     ]
    }
   ],
   "source": [
    "prueba=funciones.Funciones([1,2,3,4,5,6,7,8,9,10])\n",
    "prueba.prime()"
   ]
  },
  {
   "cell_type": "code",
   "execution_count": 6,
   "metadata": {},
   "outputs": [
    {
     "name": "stdout",
     "output_type": "stream",
     "text": [
      "The function only accepts int inputs\n",
      "El h no es primo\n",
      "The function only accepts int inputs\n",
      "El o no es primo\n",
      "The function only accepts int inputs\n",
      "El l no es primo\n",
      "The function only accepts int inputs\n",
      "El a no es primo\n"
     ]
    }
   ],
   "source": [
    "prueba2=funciones.Funciones('hola')\n",
    "prueba2.prime()"
   ]
  },
  {
   "cell_type": "code",
   "execution_count": 4,
   "metadata": {},
   "outputs": [],
   "source": [
    "# Utilizando Manejo de Excepciones\n",
    "\n",
    "import funciones_copy"
   ]
  },
  {
   "cell_type": "code",
   "execution_count": 5,
   "metadata": {},
   "outputs": [
    {
     "name": "stdout",
     "output_type": "stream",
     "text": [
      "El 1 no es primo\n",
      "El 2 es primo\n",
      "El 3 es primo\n",
      "El 4 no es primo\n",
      "El 5 es primo\n",
      "El 6 no es primo\n",
      "El 7 es primo\n",
      "El 8 no es primo\n",
      "El 9 no es primo\n",
      "El 10 no es primo\n"
     ]
    }
   ],
   "source": [
    "prueba3=funciones_copy.Funciones([1,2,3,4,5,6,7,8,9,10])\n",
    "prueba3.prime()"
   ]
  },
  {
   "cell_type": "code",
   "execution_count": 6,
   "metadata": {},
   "outputs": [
    {
     "ename": "ValueError",
     "evalue": "Se esperaba una lista de numeros eneteros de entrada. Se ha creado una lista vacía",
     "output_type": "error",
     "traceback": [
      "\u001b[1;31m---------------------------------------------------------------------------\u001b[0m",
      "\u001b[1;31mValueError\u001b[0m                                Traceback (most recent call last)",
      "\u001b[1;32mc:\\Users\\danih\\Desktop\\SOY_HENRY\\PRE-CURSO\\Python-Prep\\08 - Error Handling\\Homework_dani_7.ipynb Cell 11'\u001b[0m in \u001b[0;36m<cell line: 1>\u001b[1;34m()\u001b[0m\n\u001b[1;32m----> <a href='vscode-notebook-cell:/c%3A/Users/danih/Desktop/SOY_HENRY/PRE-CURSO/Python-Prep/08%20-%20Error%20Handling/Homework_dani_7.ipynb#ch0000010?line=0'>1</a>\u001b[0m prueba4\u001b[39m=\u001b[39mfunciones_copy\u001b[39m.\u001b[39;49mFunciones(\u001b[39m'\u001b[39;49m\u001b[39mhola\u001b[39;49m\u001b[39m'\u001b[39;49m)\n\u001b[0;32m      <a href='vscode-notebook-cell:/c%3A/Users/danih/Desktop/SOY_HENRY/PRE-CURSO/Python-Prep/08%20-%20Error%20Handling/Homework_dani_7.ipynb#ch0000010?line=1'>2</a>\u001b[0m prueba4\u001b[39m.\u001b[39mprime()\n",
      "File \u001b[1;32mC:\\Users/danih/Desktop/SOY_HENRY/PRE-CURSO/Python-Prep/07 - Classes & OOP\\funciones_copy.py:6\u001b[0m, in \u001b[0;36mFunciones.__init__\u001b[1;34m(self, lista)\u001b[0m\n\u001b[0;32m      <a href='file:///c%3A/Users/danih/Desktop/SOY_HENRY/PRE-CURSO/Python-Prep/07%20-%20Classes%20%26%20OOP/funciones_copy.py?line=3'>4</a>\u001b[0m \u001b[39mif\u001b[39;00m (\u001b[39mtype\u001b[39m(lista)\u001b[39m!=\u001b[39m \u001b[39mlist\u001b[39m):\n\u001b[0;32m      <a href='file:///c%3A/Users/danih/Desktop/SOY_HENRY/PRE-CURSO/Python-Prep/07%20-%20Classes%20%26%20OOP/funciones_copy.py?line=4'>5</a>\u001b[0m     \u001b[39mself\u001b[39m\u001b[39m.\u001b[39mlista\u001b[39m=\u001b[39m[]\n\u001b[1;32m----> <a href='file:///c%3A/Users/danih/Desktop/SOY_HENRY/PRE-CURSO/Python-Prep/07%20-%20Classes%20%26%20OOP/funciones_copy.py?line=5'>6</a>\u001b[0m     \u001b[39mraise\u001b[39;00m \u001b[39mValueError\u001b[39;00m (\u001b[39m'\u001b[39m\u001b[39mSe esperaba una lista de numeros eneteros de entrada. Se ha creado una lista vacía\u001b[39m\u001b[39m'\u001b[39m)\n\u001b[0;32m      <a href='file:///c%3A/Users/danih/Desktop/SOY_HENRY/PRE-CURSO/Python-Prep/07%20-%20Classes%20%26%20OOP/funciones_copy.py?line=6'>7</a>\u001b[0m \u001b[39melse\u001b[39;00m:\n\u001b[0;32m      <a href='file:///c%3A/Users/danih/Desktop/SOY_HENRY/PRE-CURSO/Python-Prep/07%20-%20Classes%20%26%20OOP/funciones_copy.py?line=7'>8</a>\u001b[0m     \u001b[39mself\u001b[39m\u001b[39m.\u001b[39mlista\u001b[39m=\u001b[39mlista\n",
      "\u001b[1;31mValueError\u001b[0m: Se esperaba una lista de numeros eneteros de entrada. Se ha creado una lista vacía"
     ]
    }
   ],
   "source": [
    "prueba4=funciones_copy.Funciones('hola')\n",
    "prueba4.prime()"
   ]
  },
  {
   "cell_type": "markdown",
   "metadata": {},
   "source": [
    "2) En la función que hace la conversión de grados, validar que los parámetros enviados sean los esperados, de no serlo, informar cuáles son los valores esperados."
   ]
  },
  {
   "cell_type": "code",
   "execution_count": 22,
   "metadata": {},
   "outputs": [
    {
     "data": {
      "text/plain": [
       "<module 'funciones_copy' from 'C:\\\\Users/danih/Desktop/SOY_HENRY/PRE-CURSO/Python-Prep/07 - Classes & OOP\\\\funciones_copy.py'>"
      ]
     },
     "execution_count": 22,
     "metadata": {},
     "output_type": "execute_result"
    }
   ],
   "source": [
    "import importlib\n",
    "importlib.reload(funciones_copy)"
   ]
  },
  {
   "cell_type": "code",
   "execution_count": 11,
   "metadata": {},
   "outputs": [
    {
     "name": "stdout",
     "output_type": "stream",
     "text": [
      "20 K son -253.14999999999998 °C\n",
      "25 K son -248.14999999999998 °C\n",
      "30 K son -243.14999999999998 °C\n",
      "35 K son -238.14999999999998 °C\n",
      "40 K son -233.14999999999998 °C\n",
      "45 K son -228.14999999999998 °C\n",
      "50 K son -223.14999999999998 °C\n"
     ]
    }
   ],
   "source": [
    "prueba5=funciones_copy.Funciones([20,25,30,35,40,45,50])\n",
    "prueba5.conversions('K' , '°C')"
   ]
  },
  {
   "cell_type": "code",
   "execution_count": 13,
   "metadata": {},
   "outputs": [
    {
     "ename": "ValueError",
     "evalue": "Se espera recibir alguna de las representaciones siguientes para las temperaturas: °C --> para Celsius ; °F --> para Fahrenheit ; K --> para Kelvin",
     "output_type": "error",
     "traceback": [
      "\u001b[1;31m---------------------------------------------------------------------------\u001b[0m",
      "\u001b[1;31mValueError\u001b[0m                                Traceback (most recent call last)",
      "\u001b[1;32mc:\\Users\\danih\\Desktop\\SOY_HENRY\\PRE-CURSO\\Python-Prep\\08 - Error Handling\\Homework_dani_7.ipynb Cell 15'\u001b[0m in \u001b[0;36m<cell line: 2>\u001b[1;34m()\u001b[0m\n\u001b[0;32m      <a href='vscode-notebook-cell:/c%3A/Users/danih/Desktop/SOY_HENRY/PRE-CURSO/Python-Prep/08%20-%20Error%20Handling/Homework_dani_7.ipynb#ch0000020?line=0'>1</a>\u001b[0m prueba6\u001b[39m=\u001b[39mfunciones_copy\u001b[39m.\u001b[39mFunciones([\u001b[39m20\u001b[39m,\u001b[39m25\u001b[39m,\u001b[39m30\u001b[39m,\u001b[39m35\u001b[39m,\u001b[39m40\u001b[39m,\u001b[39m45\u001b[39m,\u001b[39m50\u001b[39m])\n\u001b[1;32m----> <a href='vscode-notebook-cell:/c%3A/Users/danih/Desktop/SOY_HENRY/PRE-CURSO/Python-Prep/08%20-%20Error%20Handling/Homework_dani_7.ipynb#ch0000020?line=1'>2</a>\u001b[0m prueba6\u001b[39m.\u001b[39;49mconversions(\u001b[39m1\u001b[39;49m , \u001b[39m'\u001b[39;49m\u001b[39m°C\u001b[39;49m\u001b[39m'\u001b[39;49m)\n",
      "File \u001b[1;32mC:\\Users/danih/Desktop/SOY_HENRY/PRE-CURSO/Python-Prep/07 - Classes & OOP\\funciones_copy.py:103\u001b[0m, in \u001b[0;36mFunciones.conversions\u001b[1;34m(self, scale_temp1, scale_temp2)\u001b[0m\n\u001b[0;32m    <a href='file:///c%3A/Users/danih/Desktop/SOY_HENRY/PRE-CURSO/Python-Prep/07%20-%20Classes%20%26%20OOP/funciones_copy.py?line=100'>101</a>\u001b[0m         \u001b[39mraise\u001b[39;00m \u001b[39mValueError\u001b[39;00m (\u001b[39m'\u001b[39m\u001b[39mSe espera recibir alguna de las representaciones siguientes para las temperaturas: °C --> para Celsius ; °F --> para Fahrenheit ; K --> para Kelvin\u001b[39m\u001b[39m'\u001b[39m)\n\u001b[0;32m    <a href='file:///c%3A/Users/danih/Desktop/SOY_HENRY/PRE-CURSO/Python-Prep/07%20-%20Classes%20%26%20OOP/funciones_copy.py?line=101'>102</a>\u001b[0m \u001b[39melse\u001b[39;00m:\n\u001b[1;32m--> <a href='file:///c%3A/Users/danih/Desktop/SOY_HENRY/PRE-CURSO/Python-Prep/07%20-%20Classes%20%26%20OOP/funciones_copy.py?line=102'>103</a>\u001b[0m     \u001b[39mraise\u001b[39;00m \u001b[39mValueError\u001b[39;00m (\u001b[39m'\u001b[39m\u001b[39mSe espera recibir alguna de las representaciones siguientes para las temperaturas: °C --> para Celsius ; °F --> para Fahrenheit ; K --> para Kelvin\u001b[39m\u001b[39m'\u001b[39m)\n",
      "\u001b[1;31mValueError\u001b[0m: Se espera recibir alguna de las representaciones siguientes para las temperaturas: °C --> para Celsius ; °F --> para Fahrenheit ; K --> para Kelvin"
     ]
    }
   ],
   "source": [
    "prueba6=funciones_copy.Funciones([20,25,30,35,40,45,50])\n",
    "prueba6.conversions(1 , '°C')"
   ]
  },
  {
   "cell_type": "code",
   "execution_count": 14,
   "metadata": {},
   "outputs": [
    {
     "ename": "ValueError",
     "evalue": "Se espera recibir alguna de las representaciones siguientes para las temperaturas: °C --> para Celsius ; °F --> para Fahrenheit ; K --> para Kelvin",
     "output_type": "error",
     "traceback": [
      "\u001b[1;31m---------------------------------------------------------------------------\u001b[0m",
      "\u001b[1;31mValueError\u001b[0m                                Traceback (most recent call last)",
      "\u001b[1;32mc:\\Users\\danih\\Desktop\\SOY_HENRY\\PRE-CURSO\\Python-Prep\\08 - Error Handling\\Homework_dani_7.ipynb Cell 16'\u001b[0m in \u001b[0;36m<cell line: 1>\u001b[1;34m()\u001b[0m\n\u001b[1;32m----> <a href='vscode-notebook-cell:/c%3A/Users/danih/Desktop/SOY_HENRY/PRE-CURSO/Python-Prep/08%20-%20Error%20Handling/Homework_dani_7.ipynb#ch0000021?line=0'>1</a>\u001b[0m prueba6\u001b[39m.\u001b[39;49mconversions(\u001b[39m'\u001b[39;49m\u001b[39m°C\u001b[39;49m\u001b[39m'\u001b[39;49m , \u001b[39m2\u001b[39;49m)\n",
      "File \u001b[1;32mC:\\Users/danih/Desktop/SOY_HENRY/PRE-CURSO/Python-Prep/07 - Classes & OOP\\funciones_copy.py:101\u001b[0m, in \u001b[0;36mFunciones.conversions\u001b[1;34m(self, scale_temp1, scale_temp2)\u001b[0m\n\u001b[0;32m     <a href='file:///c%3A/Users/danih/Desktop/SOY_HENRY/PRE-CURSO/Python-Prep/07%20-%20Classes%20%26%20OOP/funciones_copy.py?line=98'>99</a>\u001b[0m             \u001b[39mprint\u001b[39m(\u001b[39mf\u001b[39m\u001b[39m'\u001b[39m\u001b[39m{\u001b[39;00mi\u001b[39m}\u001b[39;00m\u001b[39m \u001b[39m\u001b[39m{\u001b[39;00mscale_temp1\u001b[39m}\u001b[39;00m\u001b[39m son \u001b[39m\u001b[39m{\u001b[39;00m\u001b[39mself\u001b[39m\u001b[39m.\u001b[39m__conversions(i,scale_temp1,scale_temp2)\u001b[39m}\u001b[39;00m\u001b[39m \u001b[39m\u001b[39m{\u001b[39;00mscale_temp2\u001b[39m}\u001b[39;00m\u001b[39m'\u001b[39m)\n\u001b[0;32m    <a href='file:///c%3A/Users/danih/Desktop/SOY_HENRY/PRE-CURSO/Python-Prep/07%20-%20Classes%20%26%20OOP/funciones_copy.py?line=99'>100</a>\u001b[0m     \u001b[39melse\u001b[39;00m:\n\u001b[1;32m--> <a href='file:///c%3A/Users/danih/Desktop/SOY_HENRY/PRE-CURSO/Python-Prep/07%20-%20Classes%20%26%20OOP/funciones_copy.py?line=100'>101</a>\u001b[0m         \u001b[39mraise\u001b[39;00m \u001b[39mValueError\u001b[39;00m (\u001b[39m'\u001b[39m\u001b[39mSe espera recibir alguna de las representaciones siguientes para las temperaturas: °C --> para Celsius ; °F --> para Fahrenheit ; K --> para Kelvin\u001b[39m\u001b[39m'\u001b[39m)\n\u001b[0;32m    <a href='file:///c%3A/Users/danih/Desktop/SOY_HENRY/PRE-CURSO/Python-Prep/07%20-%20Classes%20%26%20OOP/funciones_copy.py?line=101'>102</a>\u001b[0m \u001b[39melse\u001b[39;00m:\n\u001b[0;32m    <a href='file:///c%3A/Users/danih/Desktop/SOY_HENRY/PRE-CURSO/Python-Prep/07%20-%20Classes%20%26%20OOP/funciones_copy.py?line=102'>103</a>\u001b[0m     \u001b[39mraise\u001b[39;00m \u001b[39mValueError\u001b[39;00m (\u001b[39m'\u001b[39m\u001b[39mSe espera recibir alguna de las representaciones siguientes para las temperaturas: °C --> para Celsius ; °F --> para Fahrenheit ; K --> para Kelvin\u001b[39m\u001b[39m'\u001b[39m)\n",
      "\u001b[1;31mValueError\u001b[0m: Se espera recibir alguna de las representaciones siguientes para las temperaturas: °C --> para Celsius ; °F --> para Fahrenheit ; K --> para Kelvin"
     ]
    }
   ],
   "source": [
    "prueba6.conversions('°C' , 2)"
   ]
  },
  {
   "cell_type": "markdown",
   "metadata": {},
   "source": [
    "3) Importar el modulo \"unittest\" y crear los siguientes casos de pruebas sobre la clase utilizada en el punto 2<br>\n",
    "Creacion del objeto incorrecta<br>\n",
    "Creacion correcta del objeto<br>\n",
    "Metodo valor_modal()<br>\n",
    "\n",
    "Se puede usar \"raise ValueError()\" en la creación de la clase para verificar el error. Investigar sobre esta funcionalidad."
   ]
  },
  {
   "cell_type": "code",
   "execution_count": null,
   "metadata": {},
   "outputs": [],
   "source": [
    "# Si se puede usar la keyword raise dentro de una clase.\n",
    "\n",
    "# Es posible que luego de realizar algún procesamiento particular que lleve a una excepción se quiera que esta se propague hacia la función que había invocado a la función actual.\n",
    "# Para hacer esto Python nos brinda la instrucción raise.\n",
    "\n",
    "# Si se invoca esta instrucción dentro de un bloque except, sin pasarle parámetros, Python levantará la excepción atrapada por ese bloque.\n",
    "\n",
    "# También podría ocurrir que en lugar de propagar la excepción tal cual fue atrapada, quisiéramos lanzar una excepción distinta, más significativa\n",
    "# y que posiblemente contenga cierta información de contexto. Para levantar una excepción de cualquier tipo, utilizamos también la sentencia raise,\n",
    "# pero indicándole el tipo de excepción que deseamos lanzar y pasando a la excepción los parámetros con información adicional que queramos brindar."
   ]
  },
  {
   "cell_type": "code",
   "execution_count": 17,
   "metadata": {},
   "outputs": [],
   "source": [
    "import unittest\n",
    "\n",
    "class CajaNegraTest (unittest.TestCase):\n",
    "\n",
    "    # As stated in the python unittest doc:\n",
    "    # The simplest TestCase subclass will simply implement a test method\n",
    "    # (i.e. a method whose name starts with test)\n",
    "    # En mi caso en vez de poner la funcion 'Creacion_obj_incorrecta\n",
    "    # debo ponerla como 'test_Creacion_obj_incorrecta'\n",
    "\n",
    "    def test_Creacion_obj_incorrecta(self):\n",
    "        \n",
    "        lis='hola'\n",
    "        \n",
    "        # assertRaises(exception, function, *args, **keywords)\n",
    "        self.assertRaises(ValueError,funciones_copy.Funciones,lis)\n",
    "\n",
    "    def test_Creacion_obj_Correcta(self):\n",
    "\n",
    "        lis=[1,2,3,4]\n",
    "\n",
    "        resultado=funciones_copy.Funciones(lis)\n",
    "\n",
    "        self.assertEqual(resultado.lista,lis)\n",
    "\n",
    "    def test_Valor_rep_mayor(self):\n",
    "\n",
    "        lis=funciones_copy.Funciones([1,2,3,4,5,5,5,6,7,8,9])\n",
    "        numbe, repet =lis.counter1(True)\n",
    "        resultado = [numbe,repet]\n",
    "        resultado_esp=[5,3]\n",
    "\n",
    "        self.assertEqual(resultado,resultado_esp)"
   ]
  },
  {
   "cell_type": "code",
   "execution_count": null,
   "metadata": {},
   "outputs": [],
   "source": [
    "''' \n",
    "Configuración para correr unittest en command line:\n",
    "\n",
    "if __name__ == '__main__':\n",
    "    unittest.main()\n",
    "\n",
    "En Jupiter y IPython la configuración es diferente porque unittest.main mira sys.argv y el primer parámetro es lo que inició\n",
    "IPython o Jupyter, por lo tanto, el error sobre el archivo de conexión del kernel no es un atributo válido.\n",
    "\n",
    "Pasar la lista explícita a unittest.main evitará que IPython y Jupyter miren sys.argv.\n",
    "Pasar exit=False evitará que unittest.main apague el proceso kernell\n",
    "'''\n",
    "# unittest.main(argv=['first-arg-is-ignored'], exit=False)\n",
    "\n"
   ]
  },
  {
   "cell_type": "code",
   "execution_count": null,
   "metadata": {},
   "outputs": [],
   "source": [
    "#QUE ES VERBOSITY (VERBOSIDAD)?\n",
    "'''\n",
    "El nivel de verbosidad está relacionado solo con el registro. En las pruebas unitarias lo encuentras para el registro de la información.\n",
    "\n",
    "Nota: Es más pitónico usar niveles como nombres constantes (logging.INFO, logging.DEBUG) en lugar de números.\n",
    "\n",
    "Estos niveles deciden la cantidad de información que obtendrá. Por ejemplo, establecer el nivel en ERROR para ejecutar pruebas unitarias\n",
    "mostrará solo los casos en los que fallaron las pruebas unitarias. Establecerlo en DEBUG le dará más información, como cuáles fueron los\n",
    "valores de las variables (en afirmaciones, etc.).\n",
    "\n",
    "Es más útil cuando es el casos en que un programa tiene diferentes niveles de registro y desea que sus usuarios vean diferentes niveles de información.\n",
    "Por ej: por lo general, no se desea que los usuarios vean los detalles internos, aparte de los errores fatales. Por lo tanto, los usuarios ejecutarán el\n",
    "programa en modo FATAL o CRÍTICO. Pero cuando ocurra algún error, necesitará tales detalles. En este caso, ejecutará el programa en modo de depuración.\n",
    "\n",
    "También se pueden emitir mensajes personalizados con estos niveles. Por ejemplo: si proporciona compatibilidad con versiones anteriores de su programa,\n",
    "puede ADVERTIRLAS con logging.warn(), que se emitirá solo cuando el nivel de registro sea una advertencia o menos.\n",
    "'''\n",
    "\n",
    "# QUE NUMEROS SE LE PUEDEN PASAR A VERBOSITY AL EJECUTAR UNITTEST ?\n",
    "'''\n",
    "Solo tienes 3 niveles diferentes:\n",
    "\n",
    "0 (silencioso): solo obtiene el número total de pruebas ejecutadas y el resultado global\n",
    "1 (predeterminado): obtiene lo mismo más un punto por cada prueba exitosa o una F por cada falla\n",
    "2 (detallado): obtienes la cadena de ayuda de cada prueba y el resultado\n",
    "\n",
    "Se pueden usar argumentos de línea de comando en lugar del argumento de verbosidad: --quiet y --verbose, que harían algo similar a pasar 0 o 2 al corredor.\n",
    "''' "
   ]
  },
  {
   "cell_type": "code",
   "execution_count": 18,
   "metadata": {},
   "outputs": [
    {
     "name": "stderr",
     "output_type": "stream",
     "text": [
      "test_Creacion_obj_Correcta (__main__.CajaNegraTest) ... ok\n",
      "test_Creacion_obj_incorrecta (__main__.CajaNegraTest) ... ok\n",
      "test_Valor_rep_mayor (__main__.CajaNegraTest) ... ok\n",
      "\n",
      "----------------------------------------------------------------------\n",
      "Ran 3 tests in 0.004s\n",
      "\n",
      "OK\n"
     ]
    },
    {
     "data": {
      "text/plain": [
       "<unittest.main.TestProgram at 0x1f7b72ad990>"
      ]
     },
     "execution_count": 18,
     "metadata": {},
     "output_type": "execute_result"
    }
   ],
   "source": [
    "unittest.main(argv=[''], verbosity=2 , exit=False)"
   ]
  },
  {
   "cell_type": "markdown",
   "metadata": {},
   "source": [
    "4) Probar una creación incorrecta y visualizar la salida del \"raise\""
   ]
  },
  {
   "cell_type": "code",
   "execution_count": 19,
   "metadata": {},
   "outputs": [
    {
     "ename": "ValueError",
     "evalue": "Se esperaba una lista de numeros eneteros de entrada. Se ha creado una lista vacía",
     "output_type": "error",
     "traceback": [
      "\u001b[1;31m---------------------------------------------------------------------------\u001b[0m",
      "\u001b[1;31mValueError\u001b[0m                                Traceback (most recent call last)",
      "\u001b[1;32mc:\\Users\\danih\\Desktop\\SOY_HENRY\\PRE-CURSO\\Python-Prep\\08 - Error Handling\\Homework_dani_7.ipynb Cell 24'\u001b[0m in \u001b[0;36m<cell line: 1>\u001b[1;34m()\u001b[0m\n\u001b[1;32m----> <a href='vscode-notebook-cell:/c%3A/Users/danih/Desktop/SOY_HENRY/PRE-CURSO/Python-Prep/08%20-%20Error%20Handling/Homework_dani_7.ipynb#ch0000027?line=0'>1</a>\u001b[0m prueba11\u001b[39m=\u001b[39mfunciones_copy\u001b[39m.\u001b[39;49mFunciones(\u001b[39m2\u001b[39;49m)\n",
      "File \u001b[1;32mC:\\Users/danih/Desktop/SOY_HENRY/PRE-CURSO/Python-Prep/07 - Classes & OOP\\funciones_copy.py:6\u001b[0m, in \u001b[0;36mFunciones.__init__\u001b[1;34m(self, lista)\u001b[0m\n\u001b[0;32m      <a href='file:///c%3A/Users/danih/Desktop/SOY_HENRY/PRE-CURSO/Python-Prep/07%20-%20Classes%20%26%20OOP/funciones_copy.py?line=3'>4</a>\u001b[0m \u001b[39mif\u001b[39;00m (\u001b[39mtype\u001b[39m(lista)\u001b[39m!=\u001b[39m \u001b[39mlist\u001b[39m):\n\u001b[0;32m      <a href='file:///c%3A/Users/danih/Desktop/SOY_HENRY/PRE-CURSO/Python-Prep/07%20-%20Classes%20%26%20OOP/funciones_copy.py?line=4'>5</a>\u001b[0m     \u001b[39mself\u001b[39m\u001b[39m.\u001b[39mlista\u001b[39m=\u001b[39m[]\n\u001b[1;32m----> <a href='file:///c%3A/Users/danih/Desktop/SOY_HENRY/PRE-CURSO/Python-Prep/07%20-%20Classes%20%26%20OOP/funciones_copy.py?line=5'>6</a>\u001b[0m     \u001b[39mraise\u001b[39;00m \u001b[39mValueError\u001b[39;00m (\u001b[39m'\u001b[39m\u001b[39mSe esperaba una lista de numeros eneteros de entrada. Se ha creado una lista vacía\u001b[39m\u001b[39m'\u001b[39m)\n\u001b[0;32m      <a href='file:///c%3A/Users/danih/Desktop/SOY_HENRY/PRE-CURSO/Python-Prep/07%20-%20Classes%20%26%20OOP/funciones_copy.py?line=6'>7</a>\u001b[0m \u001b[39melse\u001b[39;00m:\n\u001b[0;32m      <a href='file:///c%3A/Users/danih/Desktop/SOY_HENRY/PRE-CURSO/Python-Prep/07%20-%20Classes%20%26%20OOP/funciones_copy.py?line=7'>8</a>\u001b[0m     \u001b[39mself\u001b[39m\u001b[39m.\u001b[39mlista\u001b[39m=\u001b[39mlista\n",
      "\u001b[1;31mValueError\u001b[0m: Se esperaba una lista de numeros eneteros de entrada. Se ha creado una lista vacía"
     ]
    }
   ],
   "source": [
    "prueba11=funciones_copy.Funciones(2)"
   ]
  },
  {
   "cell_type": "markdown",
   "metadata": {},
   "source": [
    "6) Agregar casos de pruebas para el método verifica_primos() realizando el cambio en la clase, para que devuelva una lista de True o False en función de que el elemento en la posisicón sea o no primo"
   ]
  },
  {
   "cell_type": "code",
   "execution_count": 21,
   "metadata": {},
   "outputs": [
    {
     "name": "stderr",
     "output_type": "stream",
     "text": [
      "test_Creacion_obj_Correcta (__main__.CajaNegraTest) ... ok\n",
      "test_Creacion_obj_incorrecta (__main__.CajaNegraTest) ... ok\n",
      "test_Valor_rep_mayor (__main__.CajaNegraTest) ... ok\n",
      "test_primos (__main__.CajaNegraTest2) ... ok\n",
      "\n",
      "----------------------------------------------------------------------\n",
      "Ran 4 tests in 0.006s\n",
      "\n",
      "OK\n"
     ]
    },
    {
     "data": {
      "text/plain": [
       "<unittest.main.TestProgram at 0x1f7b7662ef0>"
      ]
     },
     "execution_count": 21,
     "metadata": {},
     "output_type": "execute_result"
    }
   ],
   "source": [
    "class CajaNegraTest2(unittest.TestCase):\n",
    "\n",
    "    def test_primos(self):\n",
    "        lis=funciones_copy.Funciones([1,2,3,4,5,6,7,8,9,10])\n",
    "        primos_recibidos=lis.prime()\n",
    "        primos_esperados=[False,True,True,False,True,False,True,False,False,False]\n",
    "        self.assertEqual(primos_recibidos,primos_esperados)\n",
    "\n",
    "unittest.main(argv=[''] , verbosity=2 , exit=False)"
   ]
  },
  {
   "cell_type": "markdown",
   "metadata": {},
   "source": [
    "7) Agregar casos de pruebas para el método conversion_grados()"
   ]
  },
  {
   "cell_type": "code",
   "execution_count": 24,
   "metadata": {},
   "outputs": [
    {
     "name": "stderr",
     "output_type": "stream",
     "text": [
      "test_Creacion_obj_Correcta (__main__.CajaNegraTest) ... ok\n",
      "test_Creacion_obj_incorrecta (__main__.CajaNegraTest) ... ok\n",
      "test_Valor_rep_mayor (__main__.CajaNegraTest) ... ok\n",
      "test_primos (__main__.CajaNegraTest2) ... ok\n",
      "test_conversion (__main__.CajaNegraTest3) ... ok\n",
      "\n",
      "----------------------------------------------------------------------\n",
      "Ran 5 tests in 0.006s\n",
      "\n",
      "OK\n"
     ]
    },
    {
     "data": {
      "text/plain": [
       "<unittest.main.TestProgram at 0x1f7b7219750>"
      ]
     },
     "execution_count": 24,
     "metadata": {},
     "output_type": "execute_result"
    }
   ],
   "source": [
    "class CajaNegraTest3(unittest.TestCase):\n",
    "\n",
    "    def test_conversion(self):\n",
    "        lis=funciones_copy.Funciones([6,7,8,9,10])\n",
    "        temp_recibidos=lis.conversions('°C' , 'K')\n",
    "        temp_esperados=[279.15, 280.15 , 281.15 , 282.15 , 283.15]\n",
    "        self.assertEqual(temp_recibidos,temp_esperados)\n",
    "\n",
    "unittest.main(argv=[''] , verbosity=2 , exit=False)"
   ]
  },
  {
   "cell_type": "markdown",
   "metadata": {},
   "source": [
    "8) Agregar casos de pruebas para el método factorial()"
   ]
  },
  {
   "cell_type": "code",
   "execution_count": 26,
   "metadata": {},
   "outputs": [
    {
     "data": {
      "text/plain": [
       "<module 'funciones_copy' from 'C:\\\\Users/danih/Desktop/SOY_HENRY/PRE-CURSO/Python-Prep/07 - Classes & OOP\\\\funciones_copy.py'>"
      ]
     },
     "execution_count": 26,
     "metadata": {},
     "output_type": "execute_result"
    }
   ],
   "source": [
    "importlib.reload(funciones_copy)"
   ]
  },
  {
   "cell_type": "code",
   "execution_count": 27,
   "metadata": {},
   "outputs": [
    {
     "name": "stderr",
     "output_type": "stream",
     "text": [
      "test_Creacion_obj_Correcta (__main__.CajaNegraTest) ... ok\n",
      "test_Creacion_obj_incorrecta (__main__.CajaNegraTest) ... ok\n",
      "test_Valor_rep_mayor (__main__.CajaNegraTest) ... ok\n",
      "test_primos (__main__.CajaNegraTest2) ... ok\n",
      "test_conversion (__main__.CajaNegraTest3) ... ok\n",
      "test_factorial (__main__.CajaNegraTest4) ... ok\n",
      "\n",
      "----------------------------------------------------------------------\n",
      "Ran 6 tests in 0.009s\n",
      "\n",
      "OK\n"
     ]
    },
    {
     "data": {
      "text/plain": [
       "<unittest.main.TestProgram at 0x1f7b72aee90>"
      ]
     },
     "execution_count": 27,
     "metadata": {},
     "output_type": "execute_result"
    }
   ],
   "source": [
    "class CajaNegraTest4(unittest.TestCase):\n",
    "\n",
    "    def test_factorial(self):\n",
    "        lis=funciones_copy.Funciones([3,4,5,6,7,8])\n",
    "        facto_recibidos=lis.factorial()\n",
    "        facto_esperados=[6,24,120,720,5040,40320]\n",
    "        self.assertEqual(facto_recibidos,facto_esperados)\n",
    "\n",
    "unittest.main(argv=[''] , verbosity=2 , exit=False)"
   ]
  },
  {
   "cell_type": "markdown",
   "metadata": {},
   "source": [
    "9) Completar el código en las funciones del archivo \"checkpoint.py\" y probarlo a partir de la ejecución del script \"tests.py\""
   ]
  },
  {
   "cell_type": "code",
   "execution_count": null,
   "metadata": {},
   "outputs": [],
   "source": [
    "#Listo"
   ]
  }
 ],
 "metadata": {
  "interpreter": {
   "hash": "4c6c9aef3cdba59bd241ddb350b7c79a6a163d516785fedcd26ee61d2f48025b"
  },
  "kernelspec": {
   "display_name": "Python 3.10.4 64-bit",
   "language": "python",
   "name": "python3"
  },
  "language_info": {
   "codemirror_mode": {
    "name": "ipython",
    "version": 3
   },
   "file_extension": ".py",
   "mimetype": "text/x-python",
   "name": "python",
   "nbconvert_exporter": "python",
   "pygments_lexer": "ipython3",
   "version": "3.10.4"
  },
  "orig_nbformat": 4
 },
 "nbformat": 4,
 "nbformat_minor": 2
}
