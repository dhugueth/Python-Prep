{
 "cells": [
  {
   "cell_type": "markdown",
   "metadata": {},
   "source": [
    "## Flujos de Control"
   ]
  },
  {
   "cell_type": "markdown",
   "metadata": {},
   "source": [
    "1) Crear una variable que contenga un elemento del conjunto de números enteros y luego imprimir por pantalla si es mayor o menor a cero"
   ]
  },
  {
   "cell_type": "code",
   "execution_count": 1,
   "metadata": {},
   "outputs": [
    {
     "name": "stdout",
     "output_type": "stream",
     "text": [
      "The number is greater than zero (0)\n"
     ]
    }
   ],
   "source": [
    "number=5\n",
    "if number < 0:\n",
    "    print('The number is less than zero (0)')\n",
    "elif number > 0:\n",
    "    print('The number is greater than zero (0)')\n",
    "else: \n",
    "    print('The number is equal to zero (0)')"
   ]
  },
  {
   "cell_type": "markdown",
   "metadata": {},
   "source": [
    "2) Crear dos variables y un condicional que informe si son del mismo tipo de dato"
   ]
  },
  {
   "cell_type": "code",
   "execution_count": 6,
   "metadata": {},
   "outputs": [
    {
     "name": "stdout",
     "output_type": "stream",
     "text": [
      "The variables have differente type of data\n"
     ]
    }
   ],
   "source": [
    "variable_1='hola'\n",
    "variable_2=32\n",
    "\n",
    "if type(variable_1)==type(variable_2):\n",
    "    print('Both variable have the same type of data')\n",
    "else:\n",
    "    print('The variables have differente type of data')"
   ]
  },
  {
   "cell_type": "markdown",
   "metadata": {},
   "source": [
    "3) Para los valores enteros del 1 al 20, imprimir por pantalla si es par o impar"
   ]
  },
  {
   "cell_type": "code",
   "execution_count": 5,
   "metadata": {},
   "outputs": [
    {
     "name": "stdout",
     "output_type": "stream",
     "text": [
      "1 is a odd number\n",
      "2 is a even number\n",
      "3 is a odd number\n",
      "4 is a even number\n",
      "5 is a odd number\n",
      "6 is a even number\n",
      "7 is a odd number\n",
      "8 is a even number\n",
      "9 is a odd number\n",
      "10 is a even number\n",
      "11 is a odd number\n",
      "12 is a even number\n",
      "13 is a odd number\n",
      "14 is a even number\n",
      "15 is a odd number\n",
      "16 is a even number\n",
      "17 is a odd number\n",
      "18 is a even number\n",
      "19 is a odd number\n",
      "20 is a even number\n"
     ]
    }
   ],
   "source": [
    "for integer in range(1,21):\n",
    "    if integer%2 ==0:\n",
    "        print(integer, 'is a even number')\n",
    "    else:\n",
    "        print(integer,'is a odd number')"
   ]
  },
  {
   "cell_type": "markdown",
   "metadata": {},
   "source": [
    "4) En un ciclo for mostrar para los valores entre 0 y 5 el resultado de elevarlo a la potencia igual a 3"
   ]
  },
  {
   "cell_type": "code",
   "execution_count": 6,
   "metadata": {},
   "outputs": [
    {
     "name": "stdout",
     "output_type": "stream",
     "text": [
      "0 to the third power is equal to 0\n",
      "1 to the third power is equal to 1\n",
      "2 to the third power is equal to 8\n",
      "3 to the third power is equal to 27\n",
      "4 to the third power is equal to 64\n",
      "5 to the third power is equal to 125\n"
     ]
    }
   ],
   "source": [
    "for numb in range(6):\n",
    "    answer=numb**3\n",
    "    print(numb, 'to the third power is equal to' , answer)"
   ]
  },
  {
   "cell_type": "markdown",
   "metadata": {},
   "source": [
    "5) Crear una variable que contenga un número entero y realizar un ciclo for la misma cantidad de ciclos"
   ]
  },
  {
   "cell_type": "code",
   "execution_count": 7,
   "metadata": {},
   "outputs": [
    {
     "name": "stdout",
     "output_type": "stream",
     "text": [
      "0 cycle\n",
      "1 cycle\n",
      "2 cycle\n",
      "3 cycle\n",
      "4 cycle\n",
      "5 cycle\n"
     ]
    }
   ],
   "source": [
    "variable_3=6\n",
    "for i in range(variable_3):\n",
    "    print( i,'cycle')\n",
    "    i+=1\n"
   ]
  },
  {
   "cell_type": "markdown",
   "metadata": {},
   "source": [
    "6) Utilizar un ciclo while para realizar el factorial de un número guardado en una variable, sólo si la variable contiene un número entero mayor a 0"
   ]
  },
  {
   "cell_type": "code",
   "execution_count": 8,
   "metadata": {},
   "outputs": [
    {
     "name": "stdout",
     "output_type": "stream",
     "text": [
      "The factorial of 5 is 120\n"
     ]
    }
   ],
   "source": [
    "variable_4=5\n",
    "number_test=variable_4\n",
    "factorial=number_test\n",
    "if type(variable_4)==int:\n",
    "    if (variable_4>0):\n",
    "        while number_test>1:\n",
    "            number_test-=1\n",
    "            factorial=factorial*(number_test)\n",
    "        print('The factorial of' , variable_4 , 'is' , factorial)    \n",
    "    else:\n",
    "        print('The number must be greater than zero')\n",
    "else:\n",
    "    print('The data is not a integer')\n",
    "    "
   ]
  },
  {
   "cell_type": "markdown",
   "metadata": {},
   "source": [
    "7) Crear un ciclo for dentro de un ciclo while"
   ]
  },
  {
   "cell_type": "code",
   "execution_count": 7,
   "metadata": {},
   "outputs": [
    {
     "name": "stdout",
     "output_type": "stream",
     "text": [
      "the number es greater than 3\n",
      "the number es greater than 3\n",
      "the number es greater than 3\n",
      "the number es greater than 3\n",
      "the number es greater than 3\n",
      "the number es greater than 3\n"
     ]
    }
   ],
   "source": [
    "variable_5=15\n",
    "while variable_5>3:\n",
    "    for i in range(1):\n",
    "        print('the number es greater than 3')\n",
    "        i+=1       \n",
    "    variable_5-=2 "
   ]
  },
  {
   "cell_type": "markdown",
   "metadata": {},
   "source": [
    "8) Crear un ciclo while dentro de un ciclo for"
   ]
  },
  {
   "cell_type": "code",
   "execution_count": 9,
   "metadata": {},
   "outputs": [
    {
     "name": "stdout",
     "output_type": "stream",
     "text": [
      "the number es greater than 3\n",
      "the number es greater than 3\n",
      "the number es greater than 3\n",
      "the number es greater than 3\n",
      "the number es greater than 3\n",
      "the number es greater than 3\n"
     ]
    }
   ],
   "source": [
    "variable_6=15\n",
    "for i in range(2):\n",
    "    i+=1 \n",
    "    while variable_6>3:\n",
    "        print('the number es greater than 3')\n",
    "        variable_6-=2"
   ]
  },
  {
   "cell_type": "markdown",
   "metadata": {},
   "source": [
    "9) Imprimir los números primos existentes entre 0 y 30"
   ]
  },
  {
   "cell_type": "code",
   "execution_count": 31,
   "metadata": {},
   "outputs": [
    {
     "name": "stdout",
     "output_type": "stream",
     "text": [
      "2\n",
      "3\n",
      "5\n",
      "7\n",
      "11\n",
      "13\n",
      "17\n",
      "19\n",
      "23\n",
      "29\n"
     ]
    }
   ],
   "source": [
    "for i in range(31):\n",
    "    if i==2 or (i>1 and i%2!=0):\n",
    "        if i>3 and i%3==0:\n",
    "            continue\n",
    "        if i>5 and i%5==0:\n",
    "            continue\n",
    "        if i>7 and i%7==0:\n",
    "            continue\n",
    "        if i>11 and i%11==0:\n",
    "            continue\n",
    "        if i>13 and i%13==0:\n",
    "            continue\n",
    "        if i>17 and i%17==0:\n",
    "            continue\n",
    "        if i>19 and i%19==0:\n",
    "            continue\n",
    "        print(i)\n",
    " "
   ]
  },
  {
   "cell_type": "markdown",
   "metadata": {},
   "source": [
    "10) ¿Se puede mejorar el proceso del punto 9? Utilizar las sentencias break y/ó continue para tal fin"
   ]
  },
  {
   "cell_type": "code",
   "execution_count": 9,
   "metadata": {},
   "outputs": [
    {
     "name": "stdout",
     "output_type": "stream",
     "text": [
      "2 is a prime number\n",
      "3 is a prime number\n",
      "5 is a prime number\n",
      "7 is a prime number\n",
      "11 is a prime number\n",
      "13 is a prime number\n",
      "17 is a prime number\n",
      "19 is a prime number\n",
      "23 is a prime number\n",
      "29 is a prime number\n"
     ]
    }
   ],
   "source": [
    "# Yes, we can improve the process of point 9 by making the code shorter\n",
    "# using booleans and the while loop with the statement break.  \n",
    "\n",
    "for i in range(31):\n",
    "    prime=True\n",
    "    j=2\n",
    "    while i>j:\n",
    "        if (i%j==0):\n",
    "            prime=False\n",
    "            break\n",
    "        j+=1\n",
    "    if prime and i>1:\n",
    "        print( i , 'is a prime number')      "
   ]
  },
  {
   "cell_type": "markdown",
   "metadata": {},
   "source": [
    "11) En los puntos 9 y 10, se diseño un código que encuentra números primos y además se lo optimizó. ¿Es posible saber en qué medida se optimizó?"
   ]
  },
  {
   "cell_type": "code",
   "execution_count": 10,
   "metadata": {},
   "outputs": [
    {
     "name": "stdout",
     "output_type": "stream",
     "text": [
      "2\n",
      "3\n",
      "5\n",
      "7\n",
      "11\n",
      "13\n",
      "17\n",
      "19\n",
      "23\n",
      "29\n",
      "Counter without break: 31\n"
     ]
    }
   ],
   "source": [
    "counter_without_break=0\n",
    "for i in range(31):\n",
    "    counter_without_break+=1\n",
    "    if i==2 or (i>1 and i%2!=0):\n",
    "        if i>3 and i%3==0:\n",
    "            continue\n",
    "        if i>5 and i%5==0:\n",
    "            continue\n",
    "        if i>7 and i%7==0:\n",
    "            continue\n",
    "        if i>11 and i%11==0:\n",
    "            continue\n",
    "        if i>13 and i%13==0:\n",
    "            continue\n",
    "        if i>17 and i%17==0:\n",
    "            continue\n",
    "        if i>19 and i%19==0:\n",
    "            continue\n",
    "        print(i)\n",
    "\n",
    "print('Counter without break:' , counter_without_break)         "
   ]
  },
  {
   "cell_type": "code",
   "execution_count": 12,
   "metadata": {},
   "outputs": [
    {
     "name": "stdout",
     "output_type": "stream",
     "text": [
      "2 is a prime number\n",
      "3 is a prime number\n",
      "5 is a prime number\n",
      "7 is a prime number\n",
      "11 is a prime number\n",
      "13 is a prime number\n",
      "17 is a prime number\n",
      "19 is a prime number\n",
      "23 is a prime number\n",
      "29 is a prime number\n",
      "Counter with break: 135\n"
     ]
    }
   ],
   "source": [
    "counter_break=0\n",
    "for i in range(31):\n",
    "    prime=True\n",
    "    j=2\n",
    "    while i>j:\n",
    "        counter_break+=1\n",
    "        if (i%j==0):\n",
    "            prime=False\n",
    "            break\n",
    "        j+=1\n",
    "    if prime and i>1:\n",
    "        print( i , 'is a prime number')\n",
    "\n",
    "print('Counter with break:' , counter_break)     "
   ]
  },
  {
   "cell_type": "code",
   "execution_count": null,
   "metadata": {},
   "outputs": [],
   "source": [
    "# First, making the code general and capable of working not only for a range from zero to thirty\n",
    "# but works for all kinds of ranges as large as needed.\n",
    "# Second, by making it shorter using conditions with loops and booleans."
   ]
  },
  {
   "cell_type": "markdown",
   "metadata": {},
   "source": [
    "12) Si la cantidad de números que se evalúa es mayor a treinta, esa optimización crece?"
   ]
  },
  {
   "cell_type": "code",
   "execution_count": 3,
   "metadata": {},
   "outputs": [
    {
     "name": "stdout",
     "output_type": "stream",
     "text": [
      "2 is a prime number\n",
      "3 is a prime number\n",
      "5 is a prime number\n",
      "7 is a prime number\n",
      "11 is a prime number\n",
      "13 is a prime number\n",
      "17 is a prime number\n",
      "19 is a prime number\n",
      "23 is a prime number\n",
      "29 is a prime number\n",
      "31 is a prime number\n",
      "37 is a prime number\n",
      "41 is a prime number\n",
      "43 is a prime number\n",
      "47 is a prime number\n",
      "53 is a prime number\n",
      "59 is a prime number\n",
      "61 is a prime number\n",
      "67 is a prime number\n",
      "71 is a prime number\n",
      "73 is a prime number\n",
      "79 is a prime number\n",
      "83 is a prime number\n",
      "89 is a prime number\n",
      "97 is a prime number\n",
      "Counter with break: 1132\n"
     ]
    }
   ],
   "source": [
    "counter_break=0\n",
    "for i in range(100):\n",
    "    prime=True\n",
    "    j=2\n",
    "    while i>j:\n",
    "        counter_break+=1\n",
    "        if (i%j==0):\n",
    "            prime=False\n",
    "            break\n",
    "        j+=1\n",
    "    if prime and i>1:\n",
    "        print( i , 'is a prime number')\n",
    "\n",
    "print('Counter with break:' , counter_break)"
   ]
  },
  {
   "cell_type": "code",
   "execution_count": 2,
   "metadata": {},
   "outputs": [
    {
     "name": "stdout",
     "output_type": "stream",
     "text": [
      "0\n",
      "1\n",
      "2\n",
      "3\n",
      "5\n",
      "7\n",
      "11\n",
      "13\n",
      "17\n",
      "19\n",
      "23\n",
      "29\n",
      "31\n",
      "37\n",
      "41\n",
      "43\n",
      "47\n",
      "53\n",
      "59\n",
      "61\n",
      "67\n",
      "71\n",
      "73\n",
      "79\n",
      "83\n",
      "89\n",
      "97\n",
      "Counter without break: 4753\n"
     ]
    }
   ],
   "source": [
    "n = 0\n",
    "primo = True\n",
    "counter_without_break=0\n",
    "while (n < 100):\n",
    "    for i in range(2, n):\n",
    "        counter_without_break+=1\n",
    "        if (n % i == 0):\n",
    "            primo = False\n",
    "    if (primo):\n",
    "        print(n)\n",
    "    else:\n",
    "        primo = True\n",
    "    n += 1\n",
    "    \n",
    "print('Counter without break:' , counter_without_break)"
   ]
  },
  {
   "cell_type": "code",
   "execution_count": 4,
   "metadata": {},
   "outputs": [
    {
     "name": "stdout",
     "output_type": "stream",
     "text": [
      "The code with break improve by 23.81653692404797%\n"
     ]
    }
   ],
   "source": [
    "print('The code with break improve by',str((counter_break/counter_without_break)*100) +'%')"
   ]
  },
  {
   "cell_type": "markdown",
   "metadata": {},
   "source": [
    "13) Aplicando continue, armar un ciclo while que solo imprima los valores divisibles por 12, dentro del rango de números de 100 a 300"
   ]
  },
  {
   "cell_type": "code",
   "execution_count": 17,
   "metadata": {},
   "outputs": [
    {
     "name": "stdout",
     "output_type": "stream",
     "text": [
      "108 can be divisible by 12\n",
      "120 can be divisible by 12\n",
      "132 can be divisible by 12\n",
      "144 can be divisible by 12\n",
      "156 can be divisible by 12\n",
      "168 can be divisible by 12\n",
      "180 can be divisible by 12\n",
      "192 can be divisible by 12\n",
      "204 can be divisible by 12\n",
      "216 can be divisible by 12\n",
      "228 can be divisible by 12\n",
      "240 can be divisible by 12\n",
      "252 can be divisible by 12\n",
      "264 can be divisible by 12\n",
      "276 can be divisible by 12\n",
      "288 can be divisible by 12\n",
      "300 can be divisible by 12\n"
     ]
    }
   ],
   "source": [
    "n=99\n",
    "while n<=300:\n",
    "    n+=1\n",
    "    if n%12!=0:\n",
    "        continue\n",
    "    print(n , 'can be divisible by 12')\n",
    "    \n",
    "    "
   ]
  },
  {
   "cell_type": "markdown",
   "metadata": {},
   "source": [
    "14) Utilizar la función **input()** que permite hacer ingresos por teclado, para encontrar números primos y dar la opción al usario de buscar el siguiente"
   ]
  },
  {
   "cell_type": "code",
   "execution_count": 19,
   "metadata": {},
   "outputs": [
    {
     "name": "stdout",
     "output_type": "stream",
     "text": [
      "2 is a prime number\n",
      "Do you want to find another prime number?: \n",
      "Write yes or no ... \n",
      "3 is a prime number\n",
      "Do you want to find another prime number?: \n",
      "Write yes or no ... \n",
      "The program is finished\n"
     ]
    }
   ],
   "source": [
    "n_next=True\n",
    "for i in range(100):\n",
    "    prime=True\n",
    "    j=2\n",
    "    while i>j:\n",
    "        if (i%j==0):\n",
    "            prime=False\n",
    "            break\n",
    "        j+=1\n",
    "    if prime and i>1:\n",
    "        print( i , 'is a prime number') \n",
    "        print('Do you want to find another prime number?: ')\n",
    "        print('Write yes or no ... ')\n",
    "        answer=input()\n",
    "        if answer=='no':\n",
    "            n_next=False\n",
    "            print('The program is finished')\n",
    "            break\n",
    "        elif answer=='yes':\n",
    "            n_next=True\n",
    "            continue\n",
    "        else: \n",
    "            print('The program could not determine a valid response and ended')\n",
    "            break\n"
   ]
  },
  {
   "cell_type": "markdown",
   "metadata": {},
   "source": [
    "15) Crear un ciclo while que encuentre dentro del rango de 100 a 300 el primer número divisible por 3 y además múltiplo de 6"
   ]
  },
  {
   "cell_type": "code",
   "execution_count": 61,
   "metadata": {},
   "outputs": [
    {
     "name": "stdout",
     "output_type": "stream",
     "text": [
      "102 is the first number divisible by three and multiple of 6\n"
     ]
    }
   ],
   "source": [
    "n1=100\n",
    "while n1<=300:\n",
    "    if n1%6==0:\n",
    "        print(str(n1) + ' is the first number divisible by three and multiple of 6')\n",
    "        break\n",
    "    n1+=1\n"
   ]
  }
 ],
 "metadata": {
  "interpreter": {
   "hash": "4c6c9aef3cdba59bd241ddb350b7c79a6a163d516785fedcd26ee61d2f48025b"
  },
  "kernelspec": {
   "display_name": "Python 3.10.4 64-bit",
   "language": "python",
   "name": "python3"
  },
  "language_info": {
   "codemirror_mode": {
    "name": "ipython",
    "version": 3
   },
   "file_extension": ".py",
   "mimetype": "text/x-python",
   "name": "python",
   "nbconvert_exporter": "python",
   "pygments_lexer": "ipython3",
   "version": "3.10.4"
  },
  "orig_nbformat": 4
 },
 "nbformat": 4,
 "nbformat_minor": 2
}
