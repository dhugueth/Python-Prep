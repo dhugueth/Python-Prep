{
 "cells": [
  {
   "cell_type": "markdown",
   "metadata": {},
   "source": [
    "## Entrada / Salida"
   ]
  },
  {
   "cell_type": "markdown",
   "metadata": {},
   "source": [
    "1) Crear un script con el nombre \"clase09_ej1.py\" que reciba 3 parametros a elección, verificando que sean exactamente esa cantidad, y muestre como salida los parámetros recibidos"
   ]
  },
  {
   "cell_type": "code",
   "execution_count": null,
   "metadata": {},
   "outputs": [],
   "source": [
    "'''\n",
    "\n",
    "PS C:\\Users\\danih\\Desktop\\SOY_HENRY\\PRE-CURSO\\Python-Prep> python '.\\09 - Entrada-Salida y Manejo de Archivos\\Dani_clase_9_ej1.py' 1 2 3\n",
    "El primer argumento ingresado es: 1\n",
    "El segundo argumento ingresado es: 2\n",
    "El tercer argumento ingresado es: 3 \n",
    "PS C:\\Users\\danih\\Desktop\\SOY_HENRY\\PRE-CURSO\\Python-Prep> python '.\\09 - Entrada-Salida y Manejo de Archivos\\Dani_clase_9_ej1.py' \n",
    "ERROR: se ejecuto el programa con una cantidad de argumentos distinta de tres (3)\n",
    "Ejemplo de como ingresar los argumentos al ejecutar es: python clase09_ej1.py 1 2 3\n",
    "PS C:\\Users\\danih\\Desktop\\SOY_HENRY\\PRE-CURSO\\Python-Prep> \n",
    "\n",
    "'''"
   ]
  },
  {
   "cell_type": "markdown",
   "metadata": {},
   "source": [
    "2) Crear un script con el nombre \"clase09_ej2.py2\" que reciba como un valor de temperatura en grados centígrados, un valor de humedad y por último si llovio (Con True o False). Y que cada vez que sea invocado, cargue en el archivo provisto \"clase09_ej2.csv\" una marca de tiempo y esa información.\n",
    "\n",
    "Para trabajar con tipos de datos relacionados con la medición del tiempo, como ser fechas, horarios o marcas de tiempo se puede utilizar la clase *datetime*\n",
    "\n",
    "``` python\n",
    "import datetime\n",
    "\n",
    "x = datetime.datetime.now()\n",
    "print(\"Ahora =\",x)\n",
    "x = datetime.datetime(2020, 5, 10)\n",
    "print(\"Fecha fija =\",x)\n",
    "\n",
    "fecha_hora = '2022-05-10 12:30:00'\n",
    "objeto_datetime = datetime.datetime.strptime(fecha_hora, '%Y-%m-%d %H:%M:%S')\n",
    "print(\"objeto datetime =\", objeto_datetime)\n",
    "marca_de_tiempo = datetime.datetime.timestamp(objeto_datetime)\n",
    "print(\"timestamp =\", marca_de_tiempo)\n",
    "fecha_hora2 = datetime.datetime.fromtimestamp(marca_de_tiempo)\n",
    "print(\"fecha hora =\", fecha_hora2)\n",
    "``` "
   ]
  },
  {
   "cell_type": "code",
   "execution_count": null,
   "metadata": {},
   "outputs": [],
   "source": [
    "'''\n",
    "PS C:\\Users\\danih\\Desktop\\SOY_HENRY\\PRE-CURSO\\Python-Prep> python '.\\09 - Entrada-Salida y Manejo de Archivos\\Dani_clase_9_ej2.py' True\n",
    "Ingrese la temperatura en grados celsius (°C): 38\n",
    "Ingrese el porcentaje de humedad: 87\n",
    "PS C:\\Users\\danih\\Desktop\\SOY_HENRY\\PRE-CURSO\\Python-Prep> python '.\\09 - Entrada-Salida y Manejo de Archivos\\Dani_clase_9_ej2.py' False\n",
    "Ingrese la temperatura en grados celsius (°C): 22\n",
    "Ingrese el porcentaje de humedad: 25\n",
    "PS C:\\Users\\danih\\Desktop\\SOY_HENRY\\PRE-CURSO\\Python-Prep> python '.\\09 - Entrada-Salida y Manejo de Archivos\\Dani_clase_9_ej2.py' True\n",
    "Ingrese la temperatura en grados celsius (°C): 30\n",
    "Ingrese el porcentaje de humedad: 60\n",
    "\n",
    "\n",
    "csv\n",
    "\n",
    "timestamp,humedad,temperatura,lluvia\n",
    "1653307316,87,38,True\n",
    "1653307366,25,22,False\n",
    "1653307402,60,30,True\n",
    "\n",
    "\n",
    "\n",
    "'''"
   ]
  },
  {
   "cell_type": "markdown",
   "metadata": {},
   "source": [
    "3) Crear un archivo a partir de los datos presentes en el diccionario provisto. El cual debe contener en la primera fila el nombre de las claves y luego cada línea los elementos i-ésimos de las listas de valores contiguos y separados por coma ','. Este archivo debe llamarse clase09_ej3.csv\n",
    "\n",
    "``` python\n",
    "montañas = {'nombre':[  'Everest','K2','Kanchenjunga','Lhotse','Makalu',\n",
    "                        'Cho Oyu','Dhaulagiri','Manaslu','Nanga Parbat','Annapurna I'],\n",
    "            'orden':[1,2,3,4,5,6,7,8,9,10],\n",
    "            'cordillera':['Himalaya','Karakórum','Himalaya','Himalaya','Himalaya'\n",
    "                        ,'Himalaya','Himalaya','Himalaya','Karakórum','Himalaya'],\n",
    "            'pais': ['Nepal','Pakistán','Nepal','Nepal','Nepal','Nepal','Nepal','Nepal',\n",
    "                    'Pakistán','Nepal'],\n",
    "            'altura':[8849,8611,8586,8516,8485,8188,8167,8163,8125,8091]}\n",
    "```"
   ]
  },
  {
   "cell_type": "code",
   "execution_count": 11,
   "metadata": {},
   "outputs": [],
   "source": [
    "import os\n",
    "\n",
    "montañas = {'nombre' : ['Everest' , 'K2' , 'Kanchenjunga' , 'Lhotse' , 'Makalu' ,\n",
    "                        'Cho Oyu' , 'Dhaulagiri' , 'Manaslu' , 'Nanga Parbat' , 'Annapurna I'] ,\n",
    "            'orden' : [1 , 2 , 3 , 4 , 5 , 6 , 7 , 8 , 9 , 10] ,\n",
    "            'cordillera' : ['Himalaya' , 'Karakórum' , 'Himalaya' , 'Himalaya' , 'Himalaya' , \n",
    "                            'Himalaya' , 'Himalaya' , 'Himalaya' , 'Karakórum' , 'Himalaya'] ,\n",
    "            'pais' : ['Nepal' , 'Pakistán' , 'Nepal' , 'Nepal' , 'Nepal' , 'Nepal' , 'Nepal' , 'Nepal' ,\n",
    "                    'Pakistán' , 'Nepal'] ,\n",
    "            'altura' : [8849 , 8611 , 8586 , 8516 , 8485 , 8188 , 8167 , 8163 , 8125 , 8091]}\n",
    "\n",
    "logs_montanias=open('Dani_clase_9_ej3.csv' , 'w')\n",
    "\n",
    "for claves in montañas:  #montañas.keys()\n",
    "    if claves=='altura':\n",
    "        logs_montanias.write(claves + '\\n')\n",
    "    else:\n",
    "        logs_montanias.write(claves + ',')\n",
    "\n",
    "tamanio=len(montañas['nombre'])\n",
    "\n",
    "\n",
    "ind=0\n",
    "while ind < tamanio:\n",
    "\n",
    "    for claves in montañas:\n",
    "\n",
    "        if claves == 'altura':\n",
    "            logs_montanias.write(str(montañas[claves][ind]) + '\\n')\n",
    "        elif claves == 'orden':\n",
    "            logs_montanias.write(str(montañas[claves][ind]) + ',')\n",
    "        else: \n",
    "            logs_montanias.write(montañas[claves][ind] + ',')\n",
    "\n",
    "    ind +=1\n",
    "\n",
    "\n",
    "logs_montanias.close()\n"
   ]
  },
  {
   "cell_type": "markdown",
   "metadata": {},
   "source": [
    "4) Mostrar el tamaño en MB del archivo generado en el punto 3"
   ]
  },
  {
   "cell_type": "code",
   "execution_count": 15,
   "metadata": {},
   "outputs": [
    {
     "name": "stdout",
     "output_type": "stream",
     "text": [
      "366\n",
      "El tamaño del archivo es de  0.0003 MB\n"
     ]
    }
   ],
   "source": [
    "tamanio_bytes = os.path.getsize('Dani_clase_9_ej3.csv')\n",
    "print(tamanio_bytes)\n",
    "tamanio_MB = round(tamanio_bytes/(1024*1024),4)\n",
    "print('El tamaño del archivo es de ', tamanio_MB, 'MB')\n",
    "\n",
    "\n",
    "# os.path.getsize() method in Python is used to check the size of specified path.\n",
    "# It returns the size of specified path in bytes."
   ]
  },
  {
   "cell_type": "markdown",
   "metadata": {},
   "source": [
    "5) Crear una carpeta llamada clase09_montañas_altas"
   ]
  },
  {
   "cell_type": "code",
   "execution_count": 16,
   "metadata": {},
   "outputs": [
    {
     "data": {
      "text/plain": [
       "'\\nSyntax: os.makedirs(path, mode = 0o777, exist_ok = False) \\nParameter: \\npath: A path-like object representing a file system path. A path-like object is either a string or bytes object representing a path.\\nmode (optional) : A Integer value representing mode of the newly created directory..If this parameter is omitted then the default value Oo777 is used.\\nexist_ok (optional) : A default value False is used for this parameter. If the target directory already exists an OSError is raised if its value is False otherwise not. For value True leaves directory unaltered. \\nReturn Type: This method does not return any value.\\n'"
      ]
     },
     "execution_count": 16,
     "metadata": {},
     "output_type": "execute_result"
    }
   ],
   "source": [
    "\n",
    "os.makedirs('Dani_montanias_altas')\n",
    "\n",
    "# os.makedirs() method in Python is used to create a directory recursively.\n",
    "# That means while making leaf directory if any intermediate-level directory is missing, os.makedirs() method will create them all.\n",
    "\n",
    "'''\n",
    "Syntax: os.makedirs(path, mode = 0o777, exist_ok = False) \n",
    "Parameter: \n",
    "path: A path-like object representing a file system path. A path-like object is either a string or bytes object representing a path.\n",
    "mode (optional) : A Integer value representing mode of the newly created directory..If this parameter is omitted then the default value Oo777 is used.\n",
    "exist_ok (optional) : A default value False is used for this parameter. If the target directory already exists an OSError is raised if its value is False otherwise not. For value True leaves directory unaltered. \n",
    "Return Type: This method does not return any value.\n",
    "'''"
   ]
  },
  {
   "cell_type": "markdown",
   "metadata": {},
   "source": [
    "6) Copiar el archivo clase09_ej3.scv en la carpeta clase09_montañas_altas usando la sentencia **os.system**"
   ]
  },
  {
   "cell_type": "code",
   "execution_count": 17,
   "metadata": {},
   "outputs": [
    {
     "data": {
      "text/plain": [
       "'\\nos.system()El método ejecuta el comando(una cadena) en un subshell. Este método se implementa llamando al\\nsistema de funciones estándar C() y tiene las mismas limitaciones. Si el comando genera alguna salida, se\\nenvía al flujo de salida estándar del intérprete. Siempre que se utiliza este método, se abre el shell\\nrespectivo del sistema operativo y se ejecuta el comando en él.\\n\\nSintaxis: os.system(comando)\\n'"
      ]
     },
     "execution_count": 17,
     "metadata": {},
     "output_type": "execute_result"
    }
   ],
   "source": [
    "os.system('move Dani_clase_9_ej3.csv Dani_montanias_altas')\n",
    "\n",
    "'''\n",
    "os.system()El método ejecuta el comando(una cadena) en un subshell. Este método se implementa llamando al\n",
    "sistema de funciones estándar C() y tiene las mismas limitaciones. Si el comando genera alguna salida, se\n",
    "envía al flujo de salida estándar del intérprete. Siempre que se utiliza este método, se abre el shell\n",
    "respectivo del sistema operativo y se ejecuta el comando en él.\n",
    "\n",
    "Sintaxis: os.system(comando)\n",
    "'''"
   ]
  },
  {
   "cell_type": "markdown",
   "metadata": {},
   "source": [
    "7) Listar el contenido de la carpeta clase09_montañas_altas"
   ]
  },
  {
   "cell_type": "code",
   "execution_count": 22,
   "metadata": {},
   "outputs": [
    {
     "data": {
      "text/plain": [
       "['Dani_clase_9_ej3.csv']"
      ]
     },
     "execution_count": 22,
     "metadata": {},
     "output_type": "execute_result"
    }
   ],
   "source": [
    "os.listdir('.\\Dani_montanias_altas')\n"
   ]
  },
  {
   "cell_type": "code",
   "execution_count": null,
   "metadata": {},
   "outputs": [],
   "source": [
    "\n",
    "'''\n",
    "os.listdir() method in python is used to get the list of all files and directories in the specified directory.\n",
    "If we don’t specify any directory, then list of files and directories in the current working directory will be returned.\n",
    "\n",
    "Syntax: os.listdir(path)\n",
    "'''"
   ]
  }
 ],
 "metadata": {
  "interpreter": {
   "hash": "4c6c9aef3cdba59bd241ddb350b7c79a6a163d516785fedcd26ee61d2f48025b"
  },
  "kernelspec": {
   "display_name": "Python 3.10.4 64-bit",
   "language": "python",
   "name": "python3"
  },
  "language_info": {
   "codemirror_mode": {
    "name": "ipython",
    "version": 3
   },
   "file_extension": ".py",
   "mimetype": "text/x-python",
   "name": "python",
   "nbconvert_exporter": "python",
   "pygments_lexer": "ipython3",
   "version": "3.10.4"
  },
  "orig_nbformat": 4
 },
 "nbformat": 4,
 "nbformat_minor": 2
}
